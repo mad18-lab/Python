{
 "cells": [
  {
   "cell_type": "code",
   "execution_count": null,
   "metadata": {},
   "outputs": [],
   "source": [
    "#Database Programming \n",
    "\n",
    "#Interfaces to most popular SQL databases are available \n",
    "    #from third-party modules, and out of the box Python comes \n",
    "    #with the sqlite3 module (and with the SQLite 3 database), \n",
    "    #so database programming can be started right away.\n",
    "\n",
    "#SQLite is a lightweight SQL database, lacking many of \n",
    "    #the features of, say, PostgreSQL, but it is very \n",
    "    #convenient for prototyping, and may prove sufficient\n",
    "    #in many cases."
   ]
  },
  {
   "cell_type": "code",
   "execution_count": null,
   "metadata": {},
   "outputs": [],
   "source": [
    "#Connect To Database\n",
    "import sqlite3\n",
    "try:\n",
    "    #Connect To Database\n",
    "    conn = sqlite3.connect('test.db')\n",
    "    print (\"Opened database successfully\")\n",
    "    \n",
    "    #Create a Table\n",
    "    conn.execute('CREATE TABLE COMPANY \\\n",
    "             (ID INT PRIMARY KEY    NOT NULL,\\\n",
    "             NAME           TEXT    NOT NULL,\\\n",
    "             AGE            INT     NOT NULL,\\\n",
    "             ADDRESS        CHAR(50),\\\n",
    "             SALARY         REAL);')\n",
    "    print (\"Table created successfully\")\n",
    "except Exception as e:\n",
    "    print(e)\n",
    "conn.close()"
   ]
  },
  {
   "cell_type": "code",
   "execution_count": null,
   "metadata": {},
   "outputs": [],
   "source": [
    "#Insert Operation\n",
    "try:\n",
    "    conn = sqlite3.connect('test.db')\n",
    "    print (\"Opened database successfully\")\n",
    "\n",
    "    conn.execute(\"INSERT INTO COMPANY (ID,NAME,AGE,ADDRESS,SALARY) \\\n",
    "          VALUES (1, 'Ajay', 32, 'Chennai', 20000.00 )\");\n",
    "\n",
    "    conn.execute(\"INSERT INTO COMPANY (ID,NAME,AGE,ADDRESS,SALARY) \\\n",
    "          VALUES (2, 'Aman', 25, 'Indore', 15000.00 )\");\n",
    "\n",
    "    conn.execute(\"INSERT INTO COMPANY (ID,NAME,AGE,ADDRESS,SALARY) \\\n",
    "          VALUES (3, 'Tilak', 23, 'Bhopal', 20000.00 )\");\n",
    "\n",
    "    conn.execute(\"INSERT INTO COMPANY (ID,NAME,AGE,ADDRESS,SALARY) \\\n",
    "          VALUES (4, 'Manoj', 25, 'Raipur', 65000.00 )\");\n",
    "    conn.commit() #End the transaction and make the changes permanent\n",
    "    conn.close()\n",
    "except Exception as e:\n",
    "    print(e)\n",
    "else:\n",
    "    print (\"Records created successfully\")"
   ]
  },
  {
   "cell_type": "code",
   "execution_count": null,
   "metadata": {},
   "outputs": [],
   "source": [
    "#Select Operation\n",
    "import sqlite3\n",
    "\n",
    "try:\n",
    "    conn = sqlite3.connect('test.db')\n",
    "    print (\"Opened database successfully\")\n",
    "\n",
    "    #cursor-an identifier associated with a group of rows.\n",
    "            #a pointer to the current row in a buffer.\n",
    "\n",
    "    cursor = conn.execute(\"SELECT id, name, address, salary \\\n",
    "                            from COMPANY \")\n",
    "    for row in cursor:\n",
    "        print (\"ID = \", row[0], end=' ')\n",
    "        print (\"NAME = \", row[1], end=' ')\n",
    "        print (\"ADDRESS = \", row[2], end=' ')\n",
    "        print (\"SALARY = \", row[3])\n",
    "    conn.close()\n",
    "except Exception as e:\n",
    "    conn.close()\n",
    "    print(e)\n",
    "else:\n",
    "    print (\"Operation done successfully\")    "
   ]
  },
  {
   "cell_type": "code",
   "execution_count": null,
   "metadata": {},
   "outputs": [],
   "source": [
    "#Update Operation\n",
    "import sqlite3\n",
    "\n",
    "conn = sqlite3.connect('test.db')\n",
    "print (\"Opened database successfully\")\n",
    "\n",
    "conn.execute(\"UPDATE COMPANY set SALARY = 25000.00 where ID = 1\")\n",
    "conn.commit\n",
    "print (\"Total number of rows updated :\", conn.total_changes)\n",
    "\n",
    "cursor = conn.execute(\"SELECT id, name, address, salary from COMPANY\")\n",
    "for row in cursor:\n",
    "    print (\"ID = \", row[0], end=' ')\n",
    "    print (\"NAME = \", row[1], end=' ')\n",
    "    print (\"ADDRESS = \", row[2], end=' ')\n",
    "    print (\"SALARY = \", row[3])\n",
    "\n",
    "print (\"Operation done successfully\")\n",
    "conn.close()"
   ]
  },
  {
   "cell_type": "code",
   "execution_count": null,
   "metadata": {},
   "outputs": [],
   "source": [
    "#Delete Operation\n",
    "import sqlite3\n",
    "\n",
    "conn = sqlite3.connect('test.db')\n",
    "print (\"Opened database successfully\")\n",
    "\n",
    "conn.execute(\"DELETE from COMPANY where ID = ?;\",2)\n",
    "conn.commit()\n",
    "print (\"Total number of rows deleted :\", conn.total_changes)\n",
    "\n",
    "cursor = conn.execute(\"SELECT id, name, address, salary from COMPANY\")\n",
    "for row in cursor:\n",
    "    print (\"ID = \", row[0], end=' ')\n",
    "    print (\"NAME = \", row[1], end=' ')\n",
    "    print (\"ADDRESS = \", row[2], end=' ')\n",
    "    print (\"SALARY = \", row[3])\n",
    "\n",
    "print (\"Operation done successfully\")\n",
    "conn.close()"
   ]
  },
  {
   "cell_type": "code",
   "execution_count": null,
   "metadata": {},
   "outputs": [],
   "source": [
    "#Insert Operation\n",
    "import sqlite3\n",
    "\n",
    "conn = sqlite3.connect('test.db')\n",
    "print (\"Opened database successfully\")\n",
    "\n",
    "conn.execute(\"INSERT INTO COMPANY (ID,NAME,AGE,ADDRESS,SALARY) \\\n",
    "      VALUES (?, ?, ?, ?, ?)\", (5, 'n', 34, 'a', 345555));\n",
    "\n",
    "\n",
    "conn.commit()\n",
    "print (\"Records created successfully\")\n",
    "conn.close()"
   ]
  },
  {
   "cell_type": "code",
   "execution_count": 1,
   "metadata": {},
   "outputs": [],
   "source": [
    "import tkinter as tk\n",
    "win=tk.Tk()\n",
    "\n",
    "label = tk.Label(\n",
    "    text=\"Hello, Tkinter\",\n",
    "    fg=\"white\",\n",
    "    bg=\"black\",\n",
    "    width=10,\n",
    "    height=10\n",
    ")\n",
    "label.pack()\n",
    "win.mainloop()\n"
   ]
  },
  {
   "cell_type": "code",
   "execution_count": null,
   "metadata": {},
   "outputs": [],
   "source": []
  }
 ],
 "metadata": {
  "kernelspec": {
   "display_name": "Python 3",
   "language": "python",
   "name": "python3"
  },
  "language_info": {
   "codemirror_mode": {
    "name": "ipython",
    "version": 3
   },
   "file_extension": ".py",
   "mimetype": "text/x-python",
   "name": "python",
   "nbconvert_exporter": "python",
   "pygments_lexer": "ipython3",
   "version": "3.6.8"
  }
 },
 "nbformat": 4,
 "nbformat_minor": 2
}
