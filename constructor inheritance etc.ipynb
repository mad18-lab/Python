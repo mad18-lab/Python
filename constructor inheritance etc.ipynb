{
 "cells": [
  {
   "cell_type": "code",
   "execution_count": 1,
   "metadata": {},
   "outputs": [],
   "source": [
    "#Derive a super class \"DistSign\" that contain a \"sign\" member from \n",
    "#the class \"Distance\"\n",
    "\n",
    "#A \"Distance\" class with constructor\n",
    "class Distance: #base class or super-class\n",
    "    def __init__(self,*args):#constructor with different number of arguments\n",
    "        if len(args)==0:\n",
    "            _feet=0\n",
    "            _inches=0.0\n",
    "        if len(args)==1: # meters to feet and inches\n",
    "            print(args[0])\n",
    "            ft=int(args[0]*3.2808)\n",
    "            inch=(args[0]*3.2808-ft)*12\n",
    "            self._feet=ft\n",
    "            self._inches=inch\n",
    "        if len(args)==2:\n",
    "            self._feet=args[0]\n",
    "            self._inches=args[1]\n",
    "    def set(self,feet,inches):\n",
    "        self._feet=feet\n",
    "        self._inches=inches\n",
    "    def show(self):\n",
    "        print(str(self._feet)+\"'\"+str(self._inches)+'\"')\n",
    "    def input1(self):\n",
    "        self._feet=int(input(\"Enter feet: \"))\n",
    "        self._inches=float(input(\"Enter inches: \"))\n",
    "    def add(self,x):\n",
    "        self._inches+=x._inches\n",
    "        self._feet+=x._feet\n",
    "        if self._inches>=12:\n",
    "            self._inches-=12\n",
    "            self._feet+=1\n",
    "    def add1(self,x,y):\n",
    "        self._inches = x._inches + y._inches\n",
    "        self._feet = x._feet + y._feet\n",
    "        if self._inches>=12:\n",
    "            self._inches-=12\n",
    "            self._feet+=1"
   ]
  },
  {
   "cell_type": "code",
   "execution_count": 2,
   "metadata": {},
   "outputs": [],
   "source": [
    "class DistSign(Distance): #derived class or sub-class\n",
    "    def __init__(self,*args): #constructor\n",
    "        if len(args)==0 :\n",
    "            self._sign='+'\n",
    "            super().__init__() # constructor of the super class\n",
    "        if len(args)==1:\n",
    "            self._sign='+'\n",
    "            super().__init__(args[0])\n",
    "        if len(args)==2:\n",
    "            self._sign='+'\n",
    "            super().__init__(args[0],args[1])            \n",
    "        if len(args)==3:\n",
    "            self._sign=args[0]\n",
    "            super().__init__(args[1],args[2])\n",
    "    def show(self):\n",
    "        print(self._sign, end='')\n",
    "        super().show()       \n",
    "    def input1(self):\n",
    "        self._sign=str(input(\"Enter sign(+/-): \"))\n",
    "        super().input1()"
   ]
  },
  {
   "cell_type": "code",
   "execution_count": 4,
   "metadata": {},
   "outputs": [
    {
     "name": "stdout",
     "output_type": "stream",
     "text": [
      "Enter sign(+/-): -\n",
      "Enter feet: 9\n",
      "Enter inches: 8.9\n",
      "-9'8.9\"\n",
      "+7'8.2\"\n",
      "-5'9.1\"\n"
     ]
    }
   ],
   "source": [
    "d1=DistSign()\n",
    "d1.input1()\n",
    "d2=DistSign(7,8.2)\n",
    "d3=DistSign('-',5, 9.1)\n",
    "\n",
    "d1.show()\n",
    "d2.show()\n",
    "d3.show()"
   ]
  },
  {
   "cell_type": "code",
   "execution_count": 5,
   "metadata": {},
   "outputs": [
    {
     "name": "stdout",
     "output_type": "stream",
     "text": [
      "constructor of Parent1\n",
      "this is function from Parent1\n",
      "private1 protected1 public1\n",
      "this is function from Child\n",
      "protected1\n",
      "public1\n",
      "public1\n",
      "protected1\n",
      "private1\n"
     ]
    }
   ],
   "source": [
    "# Private, Protected and Public\n",
    "class Parent1:\n",
    "    def __init__(self):\n",
    "        self.__privData1=\"private1\"\n",
    "        self._proData1=\"protected1\"\n",
    "        self.pubData1=\"public1\"\n",
    "        print(\"constructor of Parent1\")\n",
    "    def funcParent(self):\n",
    "        print(\"this is function from Parent1\")\n",
    "        print(self.__privData1,self._proData1, self.pubData1)\n",
    "class Child1(Parent1):\n",
    "    def __init__(self):\n",
    "        super().__init__()\n",
    "    def funcChild(self):\n",
    "        print(\"this is function from Child\")\n",
    "        #print(self.__privData1) #Error can't access private data in subclass\n",
    "        print(self._proData1)\n",
    "        print(self.pubData1)\n",
    "        \n",
    "ob = Child1()\n",
    "ob.funcParent()\n",
    "ob.funcChild()\n",
    "print(ob.pubData1)\n",
    "print(ob._proData1)\n",
    "print(ob._Parent1__privData1)"
   ]
  },
  {
   "cell_type": "code",
   "execution_count": 6,
   "metadata": {},
   "outputs": [
    {
     "name": "stdout",
     "output_type": "stream",
     "text": [
      "constructor of Parent1\n",
      "constructor of Parent2\n",
      "this is function from Parent1\n",
      "this is function from Parent2\n",
      "this is function from Child\n",
      "protected1\n",
      "public1\n",
      "protected2\n",
      "public2\n",
      "public1 public2\n",
      "protected1 protected2\n"
     ]
    }
   ],
   "source": [
    "#Multiple Inheritance\n",
    "class Parent1:\n",
    "    def __init__(self):\n",
    "        self.__privData1=\"private1\"\n",
    "        self._proData1=\"protected1\"\n",
    "        self.pubData1=\"public1\"\n",
    "        print(\"constructor of Parent1\")\n",
    "    def func1(self):\n",
    "        print(\"this is function from Parent1\")\n",
    "class Parent2:\n",
    "    def __init__(self):\n",
    "        self.__privData2=\"private2\"\n",
    "        self._proData2=\"protected2\"\n",
    "        self.pubData2=\"public2\"\n",
    "        print(\"constructor of Parent2\")\n",
    "    def func2(self):\n",
    "        print(\"this is function from Parent2\")\n",
    "class Child(Parent1, Parent2):\n",
    "    def __init__(self):\n",
    "        Parent1.__init__(self)\n",
    "        Parent2.__init__(self)\n",
    "        \n",
    "    def func3(self):\n",
    "        print(\"this is function from Child\")\n",
    "        #print(self.__privData1) #Error can't access private data in subclass\n",
    "        print(self._proData1)\n",
    "        print(self.pubData1)\n",
    "        \n",
    "        #print(self.__privData2)   #Error can't access private data in subclass\n",
    "        print(self._proData2)\n",
    "        print(self.pubData2)\n",
    "\n",
    "ob = Child()\n",
    "ob.func1()\n",
    "ob.func2()\n",
    "ob.func3()\n",
    "print(ob.pubData1, ob.pubData2)\n",
    "print(ob._proData1, ob._proData2)\n",
    "#print(ob.__privData1, ob.__privData2)"
   ]
  },
  {
   "cell_type": "code",
   "execution_count": 7,
   "metadata": {},
   "outputs": [
    {
     "name": "stdout",
     "output_type": "stream",
     "text": [
      "constructor of Parent1\n",
      "constructor of Parent2\n",
      "this is function from Parent1\n",
      "this is function from Parent2\n",
      "this is function from Child\n",
      "protected2\n",
      "public2\n"
     ]
    }
   ],
   "source": [
    "#Two super classes with the same member data PART I\n",
    "#Different order of constructor in the subclass\n",
    "class Parent1:\n",
    "    def __init__(self):\n",
    "        self._proData=\"protected1\"\n",
    "        self.pubData=\"public1\"\n",
    "        self.__privData=\"private1\"\n",
    "        print(\"constructor of Parent1\")\n",
    "    def func1(self):\n",
    "        print(\"this is function from Parent1\")\n",
    "class Parent2:\n",
    "    def __init__(self):\n",
    "        self._proData=\"protected2\"\n",
    "        self.pubData=\"public2\"\n",
    "        self.__privData=\"private2\"\n",
    "        print(\"constructor of Parent2\")\n",
    "    def func2(self):\n",
    "        print(\"this is function from Parent2\")\n",
    "class Child(Parent1, Parent2):\n",
    "    def __init__(self): #Look at the order of constructors from parents\n",
    "        Parent1.__init__(self)\n",
    "        Parent2.__init__(self) #Parent2's constructor overrides the Parent1's contructor \n",
    "        \n",
    "    def func3(self):\n",
    "        print(\"this is function from Child\")\n",
    "        print(self._proData)\n",
    "        print(self.pubData)\n",
    "        #print(self.__privData)   #Error can't access private data in subclass\n",
    "ob = Child()\n",
    "ob.func1()\n",
    "ob.func2()\n",
    "ob.func3()"
   ]
  },
  {
   "cell_type": "code",
   "execution_count": 8,
   "metadata": {},
   "outputs": [
    {
     "name": "stdout",
     "output_type": "stream",
     "text": [
      "constructor of Parent2\n",
      "constructor of Parent1\n",
      "this is function from Parent1\n",
      "this is function from Parent2\n",
      "this is function from Child\n",
      "protected1\n",
      "public1\n"
     ]
    }
   ],
   "source": [
    "#Two super classes with the same member data PART II\n",
    "#Different order of constructor in the subclass\n",
    "class Parent1:\n",
    "    def __init__(self):\n",
    "        self._proData=\"protected1\"\n",
    "        self.pubData=\"public1\"\n",
    "        self.__privData=\"private1\"\n",
    "        print(\"constructor of Parent1\")\n",
    "    def func1(self):\n",
    "        print(\"this is function from Parent1\")\n",
    "class Parent2:\n",
    "    def __init__(self):\n",
    "        self._proData=\"protected2\"\n",
    "        self.pubData=\"public2\"\n",
    "        self.__privData=\"private2\"\n",
    "        print(\"constructor of Parent2\")\n",
    "    def func2(self):\n",
    "        print(\"this is function from Parent2\")\n",
    "class Child(Parent1, Parent2):\n",
    "    def __init__(self):#Look at the order of constructors from parents\n",
    "        Parent2.__init__(self)\n",
    "        Parent1.__init__(self) #Parent1's constructor overrides the Parent2's contructor\n",
    "        \n",
    "    def func3(self):\n",
    "        print(\"this is function from Child\")\n",
    "        print(self._proData)\n",
    "        print(self.pubData)\n",
    "        #print(self.__privData1)   #Error can't access private data in subclass\n",
    "ob = Child()\n",
    "ob.func1()\n",
    "ob.func2()\n",
    "ob.func3()"
   ]
  },
  {
   "cell_type": "code",
   "execution_count": 9,
   "metadata": {},
   "outputs": [
    {
     "name": "stdout",
     "output_type": "stream",
     "text": [
      "Enter feet: 8\n",
      "Enter inches: 9.9\n",
      "8'9.9\"\n",
      "7'8.2\"\n",
      "29'2.4\"\n"
     ]
    }
   ],
   "source": [
    "#Functions defined outside a class\n",
    "def set1(self,feet,inches):\n",
    "    self._feet=feet\n",
    "    self._inches=inches\n",
    "def show(self):\n",
    "    print(str(self._feet)+\"'\"+str(round(self._inches,1))+'\"')\n",
    "def input1(self):\n",
    "    self._feet=int(input(\"Enter feet: \"))\n",
    "    self._inches=float(input(\"Enter inches: \"))\n",
    "def add(self,x):\n",
    "    self._inches+=x._inches\n",
    "    self._feet+=x._feet\n",
    "    if self._inches>=12:\n",
    "        self._inches-=12\n",
    "        self._feet+=1\n",
    "def add1(self,x,y):\n",
    "    self._inches = x._inches + y._inches\n",
    "    self._feet = x._feet + y._feet\n",
    "    if self._inches>=12:\n",
    "        self._inches-=12\n",
    "        self._feet+=1\n",
    "class Distance:\n",
    "    def __init__(self,*args):#constructor with different number of arguments\n",
    "        if len(args)==0:\n",
    "            _feet=0\n",
    "            _inches=0.0\n",
    "        if len(args)==1: # meters to feet and inches\n",
    "            ft=int(args[0]*3.2808)\n",
    "            inch=(args[0]*3.2808-ft)*12\n",
    "            self._feet=ft\n",
    "            self._inches=inch\n",
    "        if len(args)==2:\n",
    "            self._feet=args[0]\n",
    "            self._inches=args[1]\n",
    "\n",
    "Distance.set=set1\n",
    "Distance.show=show\n",
    "Distance.input=input1\n",
    "Distance.add=add\n",
    "Distance.add1=add1\n",
    "\n",
    "d1=Distance()\n",
    "d1.input()\n",
    "d2=Distance(7,8.2)\n",
    "d3=Distance(8.9)\n",
    "\n",
    "\n",
    "d1.show()\n",
    "d2.show()\n",
    "d3.show()"
   ]
  },
  {
   "cell_type": "code",
   "execution_count": 10,
   "metadata": {},
   "outputs": [
    {
     "name": "stdout",
     "output_type": "stream",
     "text": [
      "16'6.1\"\n"
     ]
    }
   ],
   "source": [
    "d1.add(d2)\n",
    "d1.show()"
   ]
  },
  {
   "cell_type": "code",
   "execution_count": 11,
   "metadata": {},
   "outputs": [
    {
     "name": "stdout",
     "output_type": "stream",
     "text": [
      "16'6.1\"\n",
      "7'8.2\"\n",
      "29'2.4\"\n"
     ]
    }
   ],
   "source": [
    "d1.show()\n",
    "d2.show()\n",
    "d3.show()"
   ]
  },
  {
   "cell_type": "code",
   "execution_count": 12,
   "metadata": {},
   "outputs": [
    {
     "name": "stdout",
     "output_type": "stream",
     "text": [
      "24'2.3\"\n"
     ]
    }
   ],
   "source": [
    "d3.add1(d1,d2)\n",
    "d3.show()"
   ]
  },
  {
   "cell_type": "code",
   "execution_count": null,
   "metadata": {},
   "outputs": [],
   "source": []
  }
 ],
 "metadata": {
  "kernelspec": {
   "display_name": "Python 3",
   "language": "python",
   "name": "python3"
  },
  "language_info": {
   "codemirror_mode": {
    "name": "ipython",
    "version": 3
   },
   "file_extension": ".py",
   "mimetype": "text/x-python",
   "name": "python",
   "nbconvert_exporter": "python",
   "pygments_lexer": "ipython3",
   "version": "3.6.8"
  }
 },
 "nbformat": 4,
 "nbformat_minor": 2
}
